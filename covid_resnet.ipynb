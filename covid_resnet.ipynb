{
 "cells": [
  {
   "cell_type": "markdown",
   "metadata": {
    "id": "-ULDUaDRBSDS"
   },
   "source": [
    "# COVID-RESNET"
   ]
  },
  {
   "cell_type": "markdown",
   "metadata": {
    "id": "BiDW_PBSNtdH"
   },
   "source": [
    "## Import dependencies"
   ]
  },
  {
   "cell_type": "code",
   "execution_count": 1,
   "metadata": {
    "colab": {
     "base_uri": "https://localhost:8080/"
    },
    "executionInfo": {
     "elapsed": 2785,
     "status": "ok",
     "timestamp": 1610292539441,
     "user": {
      "displayName": "Samuel Alejandro Cueva Lozano",
      "photoUrl": "",
      "userId": "15018074265243117161"
     },
     "user_tz": 300
    },
    "id": "vmx-JDsKcLBl",
    "outputId": "21a14524-c03d-4507-b60e-ed74a377a156"
   },
   "outputs": [
    {
     "name": "stdout",
     "output_type": "stream",
     "text": [
      "versión de Tensorflow: 2.4.0\n"
     ]
    }
   ],
   "source": [
    "import tensorflow as tf\n",
    "import numpy as np\n",
    "from sklearn.metrics import classification_report,precision_score,\\\n",
    "recall_score,f1_score\n",
    "from tensorflow.keras.utils import plot_model\n",
    "import os\n",
    "import matplotlib.pyplot as plt\n",
    "import pickle  \n",
    "import zipfile\n",
    "from functions import random_image2array,count,create_covidResnet,create_checkpoint,total_batch,plot_history,plot_metrics,plot_confusion_matrix\n",
    "\n",
    "print('versión de Tensorflow: {}'.format(tf.__version__))"
   ]
  },
  {
   "cell_type": "markdown",
   "metadata": {
    "id": "vCZv6zvgxOXZ"
   },
   "source": [
    "## Load the Dataset"
   ]
  },
  {
   "cell_type": "markdown",
   "metadata": {
    "id": "wCRo9sTAcFSs"
   },
   "source": [
    "Loading the DATASET-COVID19, which I have hosted in Google Cloud Storage, using the curl command."
   ]
  },
  {
   "cell_type": "code",
   "execution_count": 2,
   "metadata": {
    "colab": {
     "base_uri": "https://localhost:8080/"
    },
    "executionInfo": {
     "elapsed": 32901,
     "status": "ok",
     "timestamp": 1610292569568,
     "user": {
      "displayName": "Samuel Alejandro Cueva Lozano",
      "photoUrl": "",
      "userId": "15018074265243117161"
     },
     "user_tz": 300
    },
    "id": "_ihqj_--lUb-",
    "outputId": "30d4a13e-55cf-4d90-ddf3-19c31483d9e0"
   },
   "outputs": [
    {
     "name": "stdout",
     "output_type": "stream",
     "text": [
      "  % Total    % Received % Xferd  Average Speed   Time    Time     Time  Current\n",
      "                                 Dload  Upload   Total   Spent    Left  Speed\n",
      "100 2104M  100 2104M    0     0  85.5M      0  0:00:24  0:00:24 --:--:-- 24.8M\n"
     ]
    }
   ],
   "source": [
    "!curl -k -X GET -o ./DATA/DATASET-COVID19.zip \\\n",
    " https://storage.googleapis.com/data-covid19/DATASET-COVID19.zip"
   ]
  },
  {
   "cell_type": "markdown",
   "metadata": {
    "id": "52rMTTizcyS2"
   },
   "source": [
    "Extract the .zip file"
   ]
  },
  {
   "cell_type": "code",
   "execution_count": 3,
   "metadata": {
    "executionInfo": {
     "elapsed": 85910,
     "status": "ok",
     "timestamp": 1610292622582,
     "user": {
      "displayName": "Samuel Alejandro Cueva Lozano",
      "photoUrl": "",
      "userId": "15018074265243117161"
     },
     "user_tz": 300
    },
    "id": "BsueKMs5nJ3K"
   },
   "outputs": [],
   "source": [
    "zip_ref = zipfile.ZipFile('./DATA/DATASET-COVID19.zip', 'r')\n",
    "zip_ref.extractall('./DATA')\n",
    "zip_ref.close()"
   ]
  },
  {
   "cell_type": "code",
   "execution_count": 4,
   "metadata": {
    "executionInfo": {
     "elapsed": 85911,
     "status": "ok",
     "timestamp": 1610292622585,
     "user": {
      "displayName": "Samuel Alejandro Cueva Lozano",
      "photoUrl": "",
      "userId": "15018074265243117161"
     },
     "user_tz": 300
    },
    "id": "WAKQaxhC1Z2l"
   },
   "outputs": [],
   "source": [
    "#Directories for data\n",
    "dir_covid='./DATA/DATASET-COVID19'\n",
    "dir_test=os.path.join(dir_covid,'test')\n",
    "dir_train=os.path.join(dir_covid,'train')\n",
    "dir_validation=os.path.join(dir_covid,'validation')\n"
   ]
  },
  {
   "cell_type": "markdown",
   "metadata": {
    "id": "-E-A5udFxbof"
   },
   "source": [
    "## Show examples from the Dataset"
   ]
  },
  {
   "cell_type": "code",
   "execution_count": 5,
   "metadata": {
    "colab": {
     "base_uri": "https://localhost:8080/"
    },
    "executionInfo": {
     "elapsed": 87803,
     "status": "ok",
     "timestamp": 1610292624487,
     "user": {
      "displayName": "Samuel Alejandro Cueva Lozano",
      "photoUrl": "",
      "userId": "15018074265243117161"
     },
     "user_tz": 300
    },
    "id": "CRk6UooQOy7H",
    "outputId": "5c079fda-e01e-4f11-883f-c55ee259be2d"
   },
   "outputs": [
    {
     "name": "stdout",
     "output_type": "stream",
     "text": [
      "(2336, 2836)\n",
      "(1708, 1943, 3)\n",
      "(1216, 1736, 3)\n"
     ]
    }
   ],
   "source": [
    "#see pictures shape\n",
    "image_covid=random_image2array('covid19',dir_covid)\n",
    "image_normal=random_image2array('normal',dir_covid)\n",
    "image_pneumonia=random_image2array('pneumonia',dir_covid)\n",
    "print(image_covid.shape)\n",
    "print(image_normal.shape)\n",
    "print(image_pneumonia.shape)"
   ]
  },
  {
   "cell_type": "code",
   "execution_count": 6,
   "metadata": {
    "colab": {
     "base_uri": "https://localhost:8080/",
     "height": 237
    },
    "executionInfo": {
     "elapsed": 90824,
     "status": "ok",
     "timestamp": 1610292627521,
     "user": {
      "displayName": "Samuel Alejandro Cueva Lozano",
      "photoUrl": "",
      "userId": "15018074265243117161"
     },
     "user_tz": 300
    },
    "id": "HHHBnF1YMhiX",
    "outputId": "98726b3e-5571-401d-e789-3aef0f51d2d8"
   },
   "outputs": [
    {
     "data": {
      "text/plain": [
       "Text(0.5, 1.0, 'COVID-19')"
      ]
     },
     "execution_count": 6,
     "metadata": {
      "tags": []
     },
     "output_type": "execute_result"
    },
    {
     "data": {
      "image/png": "[encoded data removed]",
      "text/plain": [
       "<Figure size 936x288 with 3 Axes>"
      ]
     },
     "metadata": {
      "needs_background": "light",
      "tags": []
     },
     "output_type": "display_data"
    }
   ],
   "source": [
    "#Plot some examples of the dataset\n",
    "fig,(ax1,ax2,ax3)=plt.subplots(1,3,figsize=(13,4))\n",
    "ax1.imshow(image_normal,cmap='gray')\n",
    "ax1.set_title('normal' )\n",
    "ax2.imshow(image_pneumonia,cmap='gray')\n",
    "ax2.set_title('pneumonia')\n",
    "ax3.imshow(image_covid,cmap='gray')\n",
    "ax3.set_title('COVID-19')\n"
   ]
  },
  {
   "cell_type": "markdown",
   "metadata": {
    "id": "C1iTF9ERY212"
   },
   "source": [
    "NOTE: the size of the images is homogenized in the generator"
   ]
  },
  {
   "cell_type": "markdown",
   "metadata": {
    "id": "35ALTr571ghc"
   },
   "source": [
    "## Explore the Dataset"
   ]
  },
  {
   "cell_type": "code",
   "execution_count": 7,
   "metadata": {
    "colab": {
     "base_uri": "https://localhost:8080/"
    },
    "executionInfo": {
     "elapsed": 90811,
     "status": "ok",
     "timestamp": 1610292627523,
     "user": {
      "displayName": "Samuel Alejandro Cueva Lozano",
      "photoUrl": "",
      "userId": "15018074265243117161"
     },
     "user_tz": 300
    },
    "id": "PGkdimAU1tsx",
    "outputId": "fa7f8952-8698-4b12-b7ee-ddc9b50dab02"
   },
   "outputs": [
    {
     "name": "stdout",
     "output_type": "stream",
     "text": [
      "training images: 3860\n",
      "validation images: 1287\n",
      "test images: 1285\n"
     ]
    }
   ],
   "source": [
    "num_images_test,covid_test,normal_test,pneumonia_test=count(dir_test)\n",
    "num_images_train,covid_train,normal_train,pneumonia_train=count(dir_train)\n",
    "num_images_validation,covid_validation,normal_validation,pneumonia_validation=count(dir_validation)\n",
    "\n",
    "print('training images: {}'.format(num_images_train))\n",
    "print('validation images: {}'.format(num_images_validation))\n",
    "print('test images: {}'.format(num_images_test))\n"
   ]
  },
  {
   "cell_type": "code",
   "execution_count": 8,
   "metadata": {
    "colab": {
     "base_uri": "https://localhost:8080/",
     "height": 298
    },
    "executionInfo": {
     "elapsed": 90792,
     "status": "ok",
     "timestamp": 1610292627525,
     "user": {
      "displayName": "Samuel Alejandro Cueva Lozano",
      "photoUrl": "",
      "userId": "15018074265243117161"
     },
     "user_tz": 300
    },
    "id": "YKWyGXLRDrpr",
    "outputId": "8c651d84-5443-4ef9-ab30-caebbd1002c3"
   },
   "outputs": [
    {
     "data": {
      "text/plain": [
       "Text(0.5, 1.0, 'Images in the Dataset')"
      ]
     },
     "execution_count": 8,
     "metadata": {
      "tags": []
     },
     "output_type": "execute_result"
    },
    {
     "data": {
      "image/png": "[encoded data removed]",
      "text/plain": [
       "<Figure size 432x288 with 1 Axes>"
      ]
     },
     "metadata": {
      "needs_background": "light",
      "tags": []
     },
     "output_type": "display_data"
    }
   ],
   "source": [
    "images_covid=covid_train+covid_test+covid_validation\n",
    "images_normal=normal_train+normal_test+normal_validation\n",
    "images_pneumonia=pneumonia_train+pneumonia_test+pneumonia_validation\n",
    "labels=[\"normal\",\"pneumonia\",\"COVID-19\"]\n",
    "plt.bar(labels,[images_normal,images_pneumonia,images_covid])\n",
    "plt.title(\"Images in the Dataset\")"
   ]
  },
  {
   "cell_type": "markdown",
   "metadata": {
    "id": "9sgX9BGs6eup"
   },
   "source": [
    "Unbalanced data: As seen in the figure, the data is unbalanced. There are significantly fewer images with COVID-19 compared to the other classes."
   ]
  },
  {
   "cell_type": "markdown",
   "metadata": {
    "id": "2KJLUTABiFCw"
   },
   "source": [
    "Solution: Weight the loss function with class weights, so that the model considers that there is a class that is underrepresented and balances the loss."
   ]
  },
  {
   "cell_type": "markdown",
   "metadata": {
    "id": "XItgsJFR7k0h"
   },
   "source": [
    "Weights to Balance the Dataset"
   ]
  },
  {
   "cell_type": "code",
   "execution_count": 9,
   "metadata": {
    "executionInfo": {
     "elapsed": 90788,
     "status": "ok",
     "timestamp": 1610292627526,
     "user": {
      "displayName": "Samuel Alejandro Cueva Lozano",
      "photoUrl": "",
      "userId": "15018074265243117161"
     },
     "user_tz": 300
    },
    "id": "x87hv_24_vfj"
   },
   "outputs": [],
   "source": [
    "# Scaling by (total / 3) helps keep the loss at a similar magnitude.\n",
    "total=images_covid+images_normal+images_pneumonia\n",
    "weight_covid=(total/3)*(1/images_covid)\n",
    "weight_pneumonia=(total/3)*(1/images_pneumonia)\n",
    "weight_normal=(total/3)*(1/images_normal)\n"
   ]
  },
  {
   "cell_type": "code",
   "execution_count": 10,
   "metadata": {
    "executionInfo": {
     "elapsed": 90787,
     "status": "ok",
     "timestamp": 1610292627529,
     "user": {
      "displayName": "Samuel Alejandro Cueva Lozano",
      "photoUrl": "",
      "userId": "15018074265243117161"
     },
     "user_tz": 300
    },
    "id": "L7Uz2MEtZ-zv"
   },
   "outputs": [],
   "source": [
    "#dictionary with weights to use later in training\n",
    "dict_weights={0:weight_covid,1:weight_normal,2:weight_pneumonia}"
   ]
  },
  {
   "cell_type": "markdown",
   "metadata": {
    "id": "dbUTFk-g3STA"
   },
   "source": [
    "## Prepare data for training"
   ]
  },
  {
   "cell_type": "markdown",
   "metadata": {
    "id": "KFRif_DJ31Ux"
   },
   "source": [
    "Keras ImageDataGenerator is used to generate batches of images from image directory"
   ]
  },
  {
   "cell_type": "code",
   "execution_count": 11,
   "metadata": {
    "colab": {
     "base_uri": "https://localhost:8080/"
    },
    "executionInfo": {
     "elapsed": 91019,
     "status": "ok",
     "timestamp": 1610292627773,
     "user": {
      "displayName": "Samuel Alejandro Cueva Lozano",
      "photoUrl": "",
      "userId": "15018074265243117161"
     },
     "user_tz": 300
    },
    "id": "fmZVZWROj9V4",
    "outputId": "91764d86-67db-4893-b398-64c1e3d3caa4"
   },
   "outputs": [
    {
     "name": "stdout",
     "output_type": "stream",
     "text": [
      "Found 3860 images belonging to 3 classes.\n"
     ]
    }
   ],
   "source": [
    "#Generator for training images\n",
    "generator_train=tf.keras.preprocessing.image.ImageDataGenerator()\n",
    "train_data_gen=generator_train.flow_from_directory( dir_train,target_size=(256,256),batch_size=32,shuffle=True )"
   ]
  },
  {
   "cell_type": "code",
   "execution_count": 12,
   "metadata": {
    "colab": {
     "base_uri": "https://localhost:8080/"
    },
    "executionInfo": {
     "elapsed": 91009,
     "status": "ok",
     "timestamp": 1610292627774,
     "user": {
      "displayName": "Samuel Alejandro Cueva Lozano",
      "photoUrl": "",
      "userId": "15018074265243117161"
     },
     "user_tz": 300
    },
    "id": "7gv8P2NE-VH4",
    "outputId": "4ab0d609-8afb-46ff-d508-dc8e5fb591a9"
   },
   "outputs": [
    {
     "name": "stdout",
     "output_type": "stream",
     "text": [
      "Found 1285 images belonging to 3 classes.\n"
     ]
    }
   ],
   "source": [
    "#Generator for test images\n",
    "generator_test=tf.keras.preprocessing.image.ImageDataGenerator()\n",
    "test_data_gen=generator_test.flow_from_directory(dir_test,target_size=(256,256),batch_size=32,shuffle=True )"
   ]
  },
  {
   "cell_type": "code",
   "execution_count": 13,
   "metadata": {
    "colab": {
     "base_uri": "https://localhost:8080/"
    },
    "executionInfo": {
     "elapsed": 90997,
     "status": "ok",
     "timestamp": 1610292627775,
     "user": {
      "displayName": "Samuel Alejandro Cueva Lozano",
      "photoUrl": "",
      "userId": "15018074265243117161"
     },
     "user_tz": 300
    },
    "id": "y7aPrAG2CmwE",
    "outputId": "3ab2167f-2263-4ab9-f184-18bb051ba0f0"
   },
   "outputs": [
    {
     "name": "stdout",
     "output_type": "stream",
     "text": [
      "Found 1287 images belonging to 3 classes.\n"
     ]
    }
   ],
   "source": [
    "#Generator for validation images\n",
    "generator_validation=tf.keras.preprocessing.image.ImageDataGenerator()\n",
    "val_data_gen=generator_validation.flow_from_directory(dir_validation,target_size=(256,256),batch_size=32,shuffle=True )"
   ]
  },
  {
   "cell_type": "code",
   "execution_count": 14,
   "metadata": {
    "colab": {
     "base_uri": "https://localhost:8080/",
     "height": 302
    },
    "executionInfo": {
     "elapsed": 91753,
     "status": "ok",
     "timestamp": 1610292628550,
     "user": {
      "displayName": "Samuel Alejandro Cueva Lozano",
      "photoUrl": "",
      "userId": "15018074265243117161"
     },
     "user_tz": 300
    },
    "id": "og4KH3XQRzC9",
    "outputId": "93502d82-80c9-486b-8608-5f02905e13b0"
   },
   "outputs": [
    {
     "name": "stdout",
     "output_type": "stream",
     "text": [
      "shape of batch:  (32, 256, 256, 3)\n"
     ]
    },
    {
     "data": {
      "text/plain": [
       "<matplotlib.image.AxesImage at 0x7fa14fc85550>"
      ]
     },
     "execution_count": 14,
     "metadata": {
      "tags": []
     },
     "output_type": "execute_result"
    },
    {
     "data": {
      "image/png": "[encoded data removed]",
      "text/plain": [
       "<Figure size 432x288 with 1 Axes>"
      ]
     },
     "metadata": {
      "needs_background": "light",
      "tags": []
     },
     "output_type": "display_data"
    }
   ],
   "source": [
    "#Generated batch form and display an image of that batch\n",
    "l=(next(train_data_gen)[0])/255.0\n",
    "print('shape of batch: ',l.shape)\n",
    "plt.imshow( np.squeeze(l)[0])"
   ]
  },
  {
   "cell_type": "code",
   "execution_count": 15,
   "metadata": {
    "colab": {
     "base_uri": "https://localhost:8080/"
    },
    "executionInfo": {
     "elapsed": 91742,
     "status": "ok",
     "timestamp": 1610292628551,
     "user": {
      "displayName": "Samuel Alejandro Cueva Lozano",
      "photoUrl": "",
      "userId": "15018074265243117161"
     },
     "user_tz": 300
    },
    "id": "GotGu2KeZJMM",
    "outputId": "c537e5d4-321c-4f4f-efef-368b37b8a1e2"
   },
   "outputs": [
    {
     "data": {
      "text/plain": [
       "{'COVID19': 0, 'NORMAL': 1, 'PNEUMONIA': 2}"
      ]
     },
     "execution_count": 15,
     "metadata": {
      "tags": []
     },
     "output_type": "execute_result"
    }
   ],
   "source": [
    "#respective classes and indices\n",
    "train_data_gen.class_indices"
   ]
  },
  {
   "cell_type": "markdown",
   "metadata": {
    "id": "ft2mm3eradrE"
   },
   "source": [
    "## Creation of the model"
   ]
  },
  {
   "cell_type": "markdown",
   "metadata": {
    "id": "NnI6Z70FSNOY"
   },
   "source": [
    "### Load Resnet50  "
   ]
  },
  {
   "cell_type": "markdown",
   "metadata": {
    "id": "NksCMARKs5Gk"
   },
   "source": [
    "A Resnet50 will be used as the base model"
   ]
  },
  {
   "cell_type": "code",
   "execution_count": 16,
   "metadata": {
    "executionInfo": {
     "elapsed": 98449,
     "status": "ok",
     "timestamp": 1610292635261,
     "user": {
      "displayName": "Samuel Alejandro Cueva Lozano",
      "photoUrl": "",
      "userId": "15018074265243117161"
     },
     "user_tz": 300
    },
    "id": "tpRE2lMiUgmZ"
   },
   "outputs": [],
   "source": [
    "resnet50=tf.keras.applications.ResNet50( include_top=False,input_shape=(256,256,3) ,weights=None   )"
   ]
  },
  {
   "cell_type": "code",
   "execution_count": 17,
   "metadata": {
    "colab": {
     "base_uri": "https://localhost:8080/"
    },
    "executionInfo": {
     "elapsed": 98437,
     "status": "ok",
     "timestamp": 1610292635264,
     "user": {
      "displayName": "Samuel Alejandro Cueva Lozano",
      "photoUrl": "",
      "userId": "15018074265243117161"
     },
     "user_tz": 300
    },
    "id": "ju_flVx0cD-Q",
    "outputId": "d96dc24c-7d6d-4dda-eec1-019efe484aa8"
   },
   "outputs": [
    {
     "name": "stdout",
     "output_type": "stream",
     "text": [
      "Model: \"resnet50\"\n",
      "__________________________________________________________________________________________________\n",
      "Layer (type)                    Output Shape         Param #     Connected to                     \n",
      "==================================================================================================\n",
      "input_1 (InputLayer)            [(None, 256, 256, 3) 0                                            \n",
      "__________________________________________________________________________________________________\n",
      "conv1_pad (ZeroPadding2D)       (None, 262, 262, 3)  0           input_1[0][0]                    \n",
      "__________________________________________________________________________________________________\n",
      "conv1_conv (Conv2D)             (None, 128, 128, 64) 9472        conv1_pad[0][0]                  \n",
      "__________________________________________________________________________________________________\n",
      "conv1_bn (BatchNormalization)   (None, 128, 128, 64) 256         conv1_conv[0][0]                 \n",
      "__________________________________________________________________________________________________\n",
      "conv1_relu (Activation)         (None, 128, 128, 64) 0           conv1_bn[0][0]                   \n",
      "__________________________________________________________________________________________________\n",
      "pool1_pad (ZeroPadding2D)       (None, 130, 130, 64) 0           conv1_relu[0][0]                 \n",
      "__________________________________________________________________________________________________\n",
      "pool1_pool (MaxPooling2D)       (None, 64, 64, 64)   0           pool1_pad[0][0]                  \n",
      "__________________________________________________________________________________________________\n",
      "conv2_block1_1_conv (Conv2D)    (None, 64, 64, 64)   4160        pool1_pool[0][0]                 \n",
      "__________________________________________________________________________________________________\n",
      "conv2_block1_1_bn (BatchNormali (None, 64, 64, 64)   256         conv2_block1_1_conv[0][0]        \n",
      "__________________________________________________________________________________________________\n",
      "conv2_block1_1_relu (Activation (None, 64, 64, 64)   0           conv2_block1_1_bn[0][0]          \n",
      "__________________________________________________________________________________________________\n",
      "conv2_block1_2_conv (Conv2D)    (None, 64, 64, 64)   36928       conv2_block1_1_relu[0][0]        \n",
      "__________________________________________________________________________________________________\n",
      "conv2_block1_2_bn (BatchNormali (None, 64, 64, 64)   256         conv2_block1_2_conv[0][0]        \n",
      "__________________________________________________________________________________________________\n",
      "conv2_block1_2_relu (Activation (None, 64, 64, 64)   0           conv2_block1_2_bn[0][0]          \n",
      "__________________________________________________________________________________________________\n",
      "conv2_block1_0_conv (Conv2D)    (None, 64, 64, 256)  16640       pool1_pool[0][0]                 \n",
      "__________________________________________________________________________________________________\n",
      "conv2_block1_3_conv (Conv2D)    (None, 64, 64, 256)  16640       conv2_block1_2_relu[0][0]        \n",
      "__________________________________________________________________________________________________\n",
      "conv2_block1_0_bn (BatchNormali (None, 64, 64, 256)  1024        conv2_block1_0_conv[0][0]        \n",
      "__________________________________________________________________________________________________\n",
      "conv2_block1_3_bn (BatchNormali (None, 64, 64, 256)  1024        conv2_block1_3_conv[0][0]        \n",
      "__________________________________________________________________________________________________\n",
      "conv2_block1_add (Add)          (None, 64, 64, 256)  0           conv2_block1_0_bn[0][0]          \n",
      "                                                                 conv2_block1_3_bn[0][0]          \n",
      "__________________________________________________________________________________________________\n",
      "conv2_block1_out (Activation)   (None, 64, 64, 256)  0           conv2_block1_add[0][0]           \n",
      "__________________________________________________________________________________________________\n",
      "conv2_block2_1_conv (Conv2D)    (None, 64, 64, 64)   16448       conv2_block1_out[0][0]           \n",
      "__________________________________________________________________________________________________\n",
      "conv2_block2_1_bn (BatchNormali (None, 64, 64, 64)   256         conv2_block2_1_conv[0][0]        \n",
      "__________________________________________________________________________________________________\n",
      "conv2_block2_1_relu (Activation (None, 64, 64, 64)   0           conv2_block2_1_bn[0][0]          \n",
      "__________________________________________________________________________________________________\n",
      "conv2_block2_2_conv (Conv2D)    (None, 64, 64, 64)   36928       conv2_block2_1_relu[0][0]        \n",
      "__________________________________________________________________________________________________\n",
      "conv2_block2_2_bn (BatchNormali (None, 64, 64, 64)   256         conv2_block2_2_conv[0][0]        \n",
      "__________________________________________________________________________________________________\n",
      "conv2_block2_2_relu (Activation (None, 64, 64, 64)   0           conv2_block2_2_bn[0][0]          \n",
      "__________________________________________________________________________________________________\n",
      "conv2_block2_3_conv (Conv2D)    (None, 64, 64, 256)  16640       conv2_block2_2_relu[0][0]        \n",
      "__________________________________________________________________________________________________\n",
      "conv2_block2_3_bn (BatchNormali (None, 64, 64, 256)  1024        conv2_block2_3_conv[0][0]        \n",
      "__________________________________________________________________________________________________\n",
      "conv2_block2_add (Add)          (None, 64, 64, 256)  0           conv2_block1_out[0][0]           \n",
      "                                                                 conv2_block2_3_bn[0][0]          \n",
      "__________________________________________________________________________________________________\n",
      "conv2_block2_out (Activation)   (None, 64, 64, 256)  0           conv2_block2_add[0][0]           \n",
      "__________________________________________________________________________________________________\n",
      "conv2_block3_1_conv (Conv2D)    (None, 64, 64, 64)   16448       conv2_block2_out[0][0]           \n",
      "__________________________________________________________________________________________________\n",
      "conv2_block3_1_bn (BatchNormali (None, 64, 64, 64)   256         conv2_block3_1_conv[0][0]        \n",
      "__________________________________________________________________________________________________\n",
      "conv2_block3_1_relu (Activation (None, 64, 64, 64)   0           conv2_block3_1_bn[0][0]          \n",
      "__________________________________________________________________________________________________\n",
      "conv2_block3_2_conv (Conv2D)    (None, 64, 64, 64)   36928       conv2_block3_1_relu[0][0]        \n",
      "__________________________________________________________________________________________________\n",
      "conv2_block3_2_bn (BatchNormali (None, 64, 64, 64)   256         conv2_block3_2_conv[0][0]        \n",
      "__________________________________________________________________________________________________\n",
      "conv2_block3_2_relu (Activation (None, 64, 64, 64)   0           conv2_block3_2_bn[0][0]          \n",
      "__________________________________________________________________________________________________\n",
      "conv2_block3_3_conv (Conv2D)    (None, 64, 64, 256)  16640       conv2_block3_2_relu[0][0]        \n",
      "__________________________________________________________________________________________________\n",
      "conv2_block3_3_bn (BatchNormali (None, 64, 64, 256)  1024        conv2_block3_3_conv[0][0]        \n",
      "__________________________________________________________________________________________________\n",
      "conv2_block3_add (Add)          (None, 64, 64, 256)  0           conv2_block2_out[0][0]           \n",
      "                                                                 conv2_block3_3_bn[0][0]          \n",
      "__________________________________________________________________________________________________\n",
      "conv2_block3_out (Activation)   (None, 64, 64, 256)  0           conv2_block3_add[0][0]           \n",
      "__________________________________________________________________________________________________\n",
      "conv3_block1_1_conv (Conv2D)    (None, 32, 32, 128)  32896       conv2_block3_out[0][0]           \n",
      "__________________________________________________________________________________________________\n",
      "conv3_block1_1_bn (BatchNormali (None, 32, 32, 128)  512         conv3_block1_1_conv[0][0]        \n",
      "__________________________________________________________________________________________________\n",
      "conv3_block1_1_relu (Activation (None, 32, 32, 128)  0           conv3_block1_1_bn[0][0]          \n",
      "__________________________________________________________________________________________________\n",
      "conv3_block1_2_conv (Conv2D)    (None, 32, 32, 128)  147584      conv3_block1_1_relu[0][0]        \n",
      "__________________________________________________________________________________________________\n",
      "conv3_block1_2_bn (BatchNormali (None, 32, 32, 128)  512         conv3_block1_2_conv[0][0]        \n",
      "__________________________________________________________________________________________________\n",
      "conv3_block1_2_relu (Activation (None, 32, 32, 128)  0           conv3_block1_2_bn[0][0]          \n",
      "__________________________________________________________________________________________________\n",
      "conv3_block1_0_conv (Conv2D)    (None, 32, 32, 512)  131584      conv2_block3_out[0][0]           \n",
      "__________________________________________________________________________________________________\n",
      "conv3_block1_3_conv (Conv2D)    (None, 32, 32, 512)  66048       conv3_block1_2_relu[0][0]        \n",
      "__________________________________________________________________________________________________\n",
      "conv3_block1_0_bn (BatchNormali (None, 32, 32, 512)  2048        conv3_block1_0_conv[0][0]        \n",
      "__________________________________________________________________________________________________\n",
      "conv3_block1_3_bn (BatchNormali (None, 32, 32, 512)  2048        conv3_block1_3_conv[0][0]        \n",
      "__________________________________________________________________________________________________\n",
      "conv3_block1_add (Add)          (None, 32, 32, 512)  0           conv3_block1_0_bn[0][0]          \n",
      "                                                                 conv3_block1_3_bn[0][0]          \n",
      "__________________________________________________________________________________________________\n",
      "conv3_block1_out (Activation)   (None, 32, 32, 512)  0           conv3_block1_add[0][0]           \n",
      "__________________________________________________________________________________________________\n",
      "conv3_block2_1_conv (Conv2D)    (None, 32, 32, 128)  65664       conv3_block1_out[0][0]           \n",
      "__________________________________________________________________________________________________\n",
      "conv3_block2_1_bn (BatchNormali (None, 32, 32, 128)  512         conv3_block2_1_conv[0][0]        \n",
      "__________________________________________________________________________________________________\n",
      "conv3_block2_1_relu (Activation (None, 32, 32, 128)  0           conv3_block2_1_bn[0][0]          \n",
      "__________________________________________________________________________________________________\n",
      "conv3_block2_2_conv (Conv2D)    (None, 32, 32, 128)  147584      conv3_block2_1_relu[0][0]        \n",
      "__________________________________________________________________________________________________\n",
      "conv3_block2_2_bn (BatchNormali (None, 32, 32, 128)  512         conv3_block2_2_conv[0][0]        \n",
      "__________________________________________________________________________________________________\n",
      "conv3_block2_2_relu (Activation (None, 32, 32, 128)  0           conv3_block2_2_bn[0][0]          \n",
      "__________________________________________________________________________________________________\n",
      "conv3_block2_3_conv (Conv2D)    (None, 32, 32, 512)  66048       conv3_block2_2_relu[0][0]        \n",
      "__________________________________________________________________________________________________\n",
      "conv3_block2_3_bn (BatchNormali (None, 32, 32, 512)  2048        conv3_block2_3_conv[0][0]        \n",
      "__________________________________________________________________________________________________\n",
      "conv3_block2_add (Add)          (None, 32, 32, 512)  0           conv3_block1_out[0][0]           \n",
      "                                                                 conv3_block2_3_bn[0][0]          \n",
      "__________________________________________________________________________________________________\n",
      "conv3_block2_out (Activation)   (None, 32, 32, 512)  0           conv3_block2_add[0][0]           \n",
      "__________________________________________________________________________________________________\n",
      "conv3_block3_1_conv (Conv2D)    (None, 32, 32, 128)  65664       conv3_block2_out[0][0]           \n",
      "__________________________________________________________________________________________________\n",
      "conv3_block3_1_bn (BatchNormali (None, 32, 32, 128)  512         conv3_block3_1_conv[0][0]        \n",
      "__________________________________________________________________________________________________\n",
      "conv3_block3_1_relu (Activation (None, 32, 32, 128)  0           conv3_block3_1_bn[0][0]          \n",
      "__________________________________________________________________________________________________\n",
      "conv3_block3_2_conv (Conv2D)    (None, 32, 32, 128)  147584      conv3_block3_1_relu[0][0]        \n",
      "__________________________________________________________________________________________________\n",
      "conv3_block3_2_bn (BatchNormali (None, 32, 32, 128)  512         conv3_block3_2_conv[0][0]        \n",
      "__________________________________________________________________________________________________\n",
      "conv3_block3_2_relu (Activation (None, 32, 32, 128)  0           conv3_block3_2_bn[0][0]          \n",
      "__________________________________________________________________________________________________\n",
      "conv3_block3_3_conv (Conv2D)    (None, 32, 32, 512)  66048       conv3_block3_2_relu[0][0]        \n",
      "__________________________________________________________________________________________________\n",
      "conv3_block3_3_bn (BatchNormali (None, 32, 32, 512)  2048        conv3_block3_3_conv[0][0]        \n",
      "__________________________________________________________________________________________________\n",
      "conv3_block3_add (Add)          (None, 32, 32, 512)  0           conv3_block2_out[0][0]           \n",
      "                                                                 conv3_block3_3_bn[0][0]          \n",
      "__________________________________________________________________________________________________\n",
      "conv3_block3_out (Activation)   (None, 32, 32, 512)  0           conv3_block3_add[0][0]           \n",
      "__________________________________________________________________________________________________\n",
      "conv3_block4_1_conv (Conv2D)    (None, 32, 32, 128)  65664       conv3_block3_out[0][0]           \n",
      "__________________________________________________________________________________________________\n",
      "conv3_block4_1_bn (BatchNormali (None, 32, 32, 128)  512         conv3_block4_1_conv[0][0]        \n",
      "__________________________________________________________________________________________________\n",
      "conv3_block4_1_relu (Activation (None, 32, 32, 128)  0           conv3_block4_1_bn[0][0]          \n",
      "__________________________________________________________________________________________________\n",
      "conv3_block4_2_conv (Conv2D)    (None, 32, 32, 128)  147584      conv3_block4_1_relu[0][0]        \n",
      "__________________________________________________________________________________________________\n",
      "conv3_block4_2_bn (BatchNormali (None, 32, 32, 128)  512         conv3_block4_2_conv[0][0]        \n",
      "__________________________________________________________________________________________________\n",
      "conv3_block4_2_relu (Activation (None, 32, 32, 128)  0           conv3_block4_2_bn[0][0]          \n",
      "__________________________________________________________________________________________________\n",
      "conv3_block4_3_conv (Conv2D)    (None, 32, 32, 512)  66048       conv3_block4_2_relu[0][0]        \n",
      "__________________________________________________________________________________________________\n",
      "conv3_block4_3_bn (BatchNormali (None, 32, 32, 512)  2048        conv3_block4_3_conv[0][0]        \n",
      "__________________________________________________________________________________________________\n",
      "conv3_block4_add (Add)          (None, 32, 32, 512)  0           conv3_block3_out[0][0]           \n",
      "                                                                 conv3_block4_3_bn[0][0]          \n",
      "__________________________________________________________________________________________________\n",
      "conv3_block4_out (Activation)   (None, 32, 32, 512)  0           conv3_block4_add[0][0]           \n",
      "__________________________________________________________________________________________________\n",
      "conv4_block1_1_conv (Conv2D)    (None, 16, 16, 256)  131328      conv3_block4_out[0][0]           \n",
      "__________________________________________________________________________________________________\n",
      "conv4_block1_1_bn (BatchNormali (None, 16, 16, 256)  1024        conv4_block1_1_conv[0][0]        \n",
      "__________________________________________________________________________________________________\n",
      "conv4_block1_1_relu (Activation (None, 16, 16, 256)  0           conv4_block1_1_bn[0][0]          \n",
      "__________________________________________________________________________________________________\n",
      "conv4_block1_2_conv (Conv2D)    (None, 16, 16, 256)  590080      conv4_block1_1_relu[0][0]        \n",
      "__________________________________________________________________________________________________\n",
      "conv4_block1_2_bn (BatchNormali (None, 16, 16, 256)  1024        conv4_block1_2_conv[0][0]        \n",
      "__________________________________________________________________________________________________\n",
      "conv4_block1_2_relu (Activation (None, 16, 16, 256)  0           conv4_block1_2_bn[0][0]          \n",
      "__________________________________________________________________________________________________\n",
      "conv4_block1_0_conv (Conv2D)    (None, 16, 16, 1024) 525312      conv3_block4_out[0][0]           \n",
      "__________________________________________________________________________________________________\n",
      "conv4_block1_3_conv (Conv2D)    (None, 16, 16, 1024) 263168      conv4_block1_2_relu[0][0]        \n",
      "__________________________________________________________________________________________________\n",
      "conv4_block1_0_bn (BatchNormali (None, 16, 16, 1024) 4096        conv4_block1_0_conv[0][0]        \n",
      "__________________________________________________________________________________________________\n",
      "conv4_block1_3_bn (BatchNormali (None, 16, 16, 1024) 4096        conv4_block1_3_conv[0][0]        \n",
      "__________________________________________________________________________________________________\n",
      "conv4_block1_add (Add)          (None, 16, 16, 1024) 0           conv4_block1_0_bn[0][0]          \n",
      "                                                                 conv4_block1_3_bn[0][0]          \n",
      "__________________________________________________________________________________________________\n",
      "conv4_block1_out (Activation)   (None, 16, 16, 1024) 0           conv4_block1_add[0][0]           \n",
      "__________________________________________________________________________________________________\n",
      "conv4_block2_1_conv (Conv2D)    (None, 16, 16, 256)  262400      conv4_block1_out[0][0]           \n",
      "__________________________________________________________________________________________________\n",
      "conv4_block2_1_bn (BatchNormali (None, 16, 16, 256)  1024        conv4_block2_1_conv[0][0]        \n",
      "__________________________________________________________________________________________________\n",
      "conv4_block2_1_relu (Activation (None, 16, 16, 256)  0           conv4_block2_1_bn[0][0]          \n",
      "__________________________________________________________________________________________________\n",
      "conv4_block2_2_conv (Conv2D)    (None, 16, 16, 256)  590080      conv4_block2_1_relu[0][0]        \n",
      "__________________________________________________________________________________________________\n",
      "conv4_block2_2_bn (BatchNormali (None, 16, 16, 256)  1024        conv4_block2_2_conv[0][0]        \n",
      "__________________________________________________________________________________________________\n",
      "conv4_block2_2_relu (Activation (None, 16, 16, 256)  0           conv4_block2_2_bn[0][0]          \n",
      "__________________________________________________________________________________________________\n",
      "conv4_block2_3_conv (Conv2D)    (None, 16, 16, 1024) 263168      conv4_block2_2_relu[0][0]        \n",
      "__________________________________________________________________________________________________\n",
      "conv4_block2_3_bn (BatchNormali (None, 16, 16, 1024) 4096        conv4_block2_3_conv[0][0]        \n",
      "__________________________________________________________________________________________________\n",
      "conv4_block2_add (Add)          (None, 16, 16, 1024) 0           conv4_block1_out[0][0]           \n",
      "                                                                 conv4_block2_3_bn[0][0]          \n",
      "__________________________________________________________________________________________________\n",
      "conv4_block2_out (Activation)   (None, 16, 16, 1024) 0           conv4_block2_add[0][0]           \n",
      "__________________________________________________________________________________________________\n",
      "conv4_block3_1_conv (Conv2D)    (None, 16, 16, 256)  262400      conv4_block2_out[0][0]           \n",
      "__________________________________________________________________________________________________\n",
      "conv4_block3_1_bn (BatchNormali (None, 16, 16, 256)  1024        conv4_block3_1_conv[0][0]        \n",
      "__________________________________________________________________________________________________\n",
      "conv4_block3_1_relu (Activation (None, 16, 16, 256)  0           conv4_block3_1_bn[0][0]          \n",
      "__________________________________________________________________________________________________\n",
      "conv4_block3_2_conv (Conv2D)    (None, 16, 16, 256)  590080      conv4_block3_1_relu[0][0]        \n",
      "__________________________________________________________________________________________________\n",
      "conv4_block3_2_bn (BatchNormali (None, 16, 16, 256)  1024        conv4_block3_2_conv[0][0]        \n",
      "__________________________________________________________________________________________________\n",
      "conv4_block3_2_relu (Activation (None, 16, 16, 256)  0           conv4_block3_2_bn[0][0]          \n",
      "__________________________________________________________________________________________________\n",
      "conv4_block3_3_conv (Conv2D)    (None, 16, 16, 1024) 263168      conv4_block3_2_relu[0][0]        \n",
      "__________________________________________________________________________________________________\n",
      "conv4_block3_3_bn (BatchNormali (None, 16, 16, 1024) 4096        conv4_block3_3_conv[0][0]        \n",
      "__________________________________________________________________________________________________\n",
      "conv4_block3_add (Add)          (None, 16, 16, 1024) 0           conv4_block2_out[0][0]           \n",
      "                                                                 conv4_block3_3_bn[0][0]          \n",
      "__________________________________________________________________________________________________\n",
      "conv4_block3_out (Activation)   (None, 16, 16, 1024) 0           conv4_block3_add[0][0]           \n",
      "__________________________________________________________________________________________________\n",
      "conv4_block4_1_conv (Conv2D)    (None, 16, 16, 256)  262400      conv4_block3_out[0][0]           \n",
      "__________________________________________________________________________________________________\n",
      "conv4_block4_1_bn (BatchNormali (None, 16, 16, 256)  1024        conv4_block4_1_conv[0][0]        \n",
      "__________________________________________________________________________________________________\n",
      "conv4_block4_1_relu (Activation (None, 16, 16, 256)  0           conv4_block4_1_bn[0][0]          \n",
      "__________________________________________________________________________________________________\n",
      "conv4_block4_2_conv (Conv2D)    (None, 16, 16, 256)  590080      conv4_block4_1_relu[0][0]        \n",
      "__________________________________________________________________________________________________\n",
      "conv4_block4_2_bn (BatchNormali (None, 16, 16, 256)  1024        conv4_block4_2_conv[0][0]        \n",
      "__________________________________________________________________________________________________\n",
      "conv4_block4_2_relu (Activation (None, 16, 16, 256)  0           conv4_block4_2_bn[0][0]          \n",
      "__________________________________________________________________________________________________\n",
      "conv4_block4_3_conv (Conv2D)    (None, 16, 16, 1024) 263168      conv4_block4_2_relu[0][0]        \n",
      "__________________________________________________________________________________________________\n",
      "conv4_block4_3_bn (BatchNormali (None, 16, 16, 1024) 4096        conv4_block4_3_conv[0][0]        \n",
      "__________________________________________________________________________________________________\n",
      "conv4_block4_add (Add)          (None, 16, 16, 1024) 0           conv4_block3_out[0][0]           \n",
      "                                                                 conv4_block4_3_bn[0][0]          \n",
      "__________________________________________________________________________________________________\n",
      "conv4_block4_out (Activation)   (None, 16, 16, 1024) 0           conv4_block4_add[0][0]           \n",
      "__________________________________________________________________________________________________\n",
      "conv4_block5_1_conv (Conv2D)    (None, 16, 16, 256)  262400      conv4_block4_out[0][0]           \n",
      "__________________________________________________________________________________________________\n",
      "conv4_block5_1_bn (BatchNormali (None, 16, 16, 256)  1024        conv4_block5_1_conv[0][0]        \n",
      "__________________________________________________________________________________________________\n",
      "conv4_block5_1_relu (Activation (None, 16, 16, 256)  0           conv4_block5_1_bn[0][0]          \n",
      "__________________________________________________________________________________________________\n",
      "conv4_block5_2_conv (Conv2D)    (None, 16, 16, 256)  590080      conv4_block5_1_relu[0][0]        \n",
      "__________________________________________________________________________________________________\n",
      "conv4_block5_2_bn (BatchNormali (None, 16, 16, 256)  1024        conv4_block5_2_conv[0][0]        \n",
      "__________________________________________________________________________________________________\n",
      "conv4_block5_2_relu (Activation (None, 16, 16, 256)  0           conv4_block5_2_bn[0][0]          \n",
      "__________________________________________________________________________________________________\n",
      "conv4_block5_3_conv (Conv2D)    (None, 16, 16, 1024) 263168      conv4_block5_2_relu[0][0]        \n",
      "__________________________________________________________________________________________________\n",
      "conv4_block5_3_bn (BatchNormali (None, 16, 16, 1024) 4096        conv4_block5_3_conv[0][0]        \n",
      "__________________________________________________________________________________________________\n",
      "conv4_block5_add (Add)          (None, 16, 16, 1024) 0           conv4_block4_out[0][0]           \n",
      "                                                                 conv4_block5_3_bn[0][0]          \n",
      "__________________________________________________________________________________________________\n",
      "conv4_block5_out (Activation)   (None, 16, 16, 1024) 0           conv4_block5_add[0][0]           \n",
      "__________________________________________________________________________________________________\n",
      "conv4_block6_1_conv (Conv2D)    (None, 16, 16, 256)  262400      conv4_block5_out[0][0]           \n",
      "__________________________________________________________________________________________________\n",
      "conv4_block6_1_bn (BatchNormali (None, 16, 16, 256)  1024        conv4_block6_1_conv[0][0]        \n",
      "__________________________________________________________________________________________________\n",
      "conv4_block6_1_relu (Activation (None, 16, 16, 256)  0           conv4_block6_1_bn[0][0]          \n",
      "__________________________________________________________________________________________________\n",
      "conv4_block6_2_conv (Conv2D)    (None, 16, 16, 256)  590080      conv4_block6_1_relu[0][0]        \n",
      "__________________________________________________________________________________________________\n",
      "conv4_block6_2_bn (BatchNormali (None, 16, 16, 256)  1024        conv4_block6_2_conv[0][0]        \n",
      "__________________________________________________________________________________________________\n",
      "conv4_block6_2_relu (Activation (None, 16, 16, 256)  0           conv4_block6_2_bn[0][0]          \n",
      "__________________________________________________________________________________________________\n",
      "conv4_block6_3_conv (Conv2D)    (None, 16, 16, 1024) 263168      conv4_block6_2_relu[0][0]        \n",
      "__________________________________________________________________________________________________\n",
      "conv4_block6_3_bn (BatchNormali (None, 16, 16, 1024) 4096        conv4_block6_3_conv[0][0]        \n",
      "__________________________________________________________________________________________________\n",
      "conv4_block6_add (Add)          (None, 16, 16, 1024) 0           conv4_block5_out[0][0]           \n",
      "                                                                 conv4_block6_3_bn[0][0]          \n",
      "__________________________________________________________________________________________________\n",
      "conv4_block6_out (Activation)   (None, 16, 16, 1024) 0           conv4_block6_add[0][0]           \n",
      "__________________________________________________________________________________________________\n",
      "conv5_block1_1_conv (Conv2D)    (None, 8, 8, 512)    524800      conv4_block6_out[0][0]           \n",
      "__________________________________________________________________________________________________\n",
      "conv5_block1_1_bn (BatchNormali (None, 8, 8, 512)    2048        conv5_block1_1_conv[0][0]        \n",
      "__________________________________________________________________________________________________\n",
      "conv5_block1_1_relu (Activation (None, 8, 8, 512)    0           conv5_block1_1_bn[0][0]          \n",
      "__________________________________________________________________________________________________\n",
      "conv5_block1_2_conv (Conv2D)    (None, 8, 8, 512)    2359808     conv5_block1_1_relu[0][0]        \n",
      "__________________________________________________________________________________________________\n",
      "conv5_block1_2_bn (BatchNormali (None, 8, 8, 512)    2048        conv5_block1_2_conv[0][0]        \n",
      "__________________________________________________________________________________________________\n",
      "conv5_block1_2_relu (Activation (None, 8, 8, 512)    0           conv5_block1_2_bn[0][0]          \n",
      "__________________________________________________________________________________________________\n",
      "conv5_block1_0_conv (Conv2D)    (None, 8, 8, 2048)   2099200     conv4_block6_out[0][0]           \n",
      "__________________________________________________________________________________________________\n",
      "conv5_block1_3_conv (Conv2D)    (None, 8, 8, 2048)   1050624     conv5_block1_2_relu[0][0]        \n",
      "__________________________________________________________________________________________________\n",
      "conv5_block1_0_bn (BatchNormali (None, 8, 8, 2048)   8192        conv5_block1_0_conv[0][0]        \n",
      "__________________________________________________________________________________________________\n",
      "conv5_block1_3_bn (BatchNormali (None, 8, 8, 2048)   8192        conv5_block1_3_conv[0][0]        \n",
      "__________________________________________________________________________________________________\n",
      "conv5_block1_add (Add)          (None, 8, 8, 2048)   0           conv5_block1_0_bn[0][0]          \n",
      "                                                                 conv5_block1_3_bn[0][0]          \n",
      "__________________________________________________________________________________________________\n",
      "conv5_block1_out (Activation)   (None, 8, 8, 2048)   0           conv5_block1_add[0][0]           \n",
      "__________________________________________________________________________________________________\n",
      "conv5_block2_1_conv (Conv2D)    (None, 8, 8, 512)    1049088     conv5_block1_out[0][0]           \n",
      "__________________________________________________________________________________________________\n",
      "conv5_block2_1_bn (BatchNormali (None, 8, 8, 512)    2048        conv5_block2_1_conv[0][0]        \n",
      "__________________________________________________________________________________________________\n",
      "conv5_block2_1_relu (Activation (None, 8, 8, 512)    0           conv5_block2_1_bn[0][0]          \n",
      "__________________________________________________________________________________________________\n",
      "conv5_block2_2_conv (Conv2D)    (None, 8, 8, 512)    2359808     conv5_block2_1_relu[0][0]        \n",
      "__________________________________________________________________________________________________\n",
      "conv5_block2_2_bn (BatchNormali (None, 8, 8, 512)    2048        conv5_block2_2_conv[0][0]        \n",
      "__________________________________________________________________________________________________\n",
      "conv5_block2_2_relu (Activation (None, 8, 8, 512)    0           conv5_block2_2_bn[0][0]          \n",
      "__________________________________________________________________________________________________\n",
      "conv5_block2_3_conv (Conv2D)    (None, 8, 8, 2048)   1050624     conv5_block2_2_relu[0][0]        \n",
      "__________________________________________________________________________________________________\n",
      "conv5_block2_3_bn (BatchNormali (None, 8, 8, 2048)   8192        conv5_block2_3_conv[0][0]        \n",
      "__________________________________________________________________________________________________\n",
      "conv5_block2_add (Add)          (None, 8, 8, 2048)   0           conv5_block1_out[0][0]           \n",
      "                                                                 conv5_block2_3_bn[0][0]          \n",
      "__________________________________________________________________________________________________\n",
      "conv5_block2_out (Activation)   (None, 8, 8, 2048)   0           conv5_block2_add[0][0]           \n",
      "__________________________________________________________________________________________________\n",
      "conv5_block3_1_conv (Conv2D)    (None, 8, 8, 512)    1049088     conv5_block2_out[0][0]           \n",
      "__________________________________________________________________________________________________\n",
      "conv5_block3_1_bn (BatchNormali (None, 8, 8, 512)    2048        conv5_block3_1_conv[0][0]        \n",
      "__________________________________________________________________________________________________\n",
      "conv5_block3_1_relu (Activation (None, 8, 8, 512)    0           conv5_block3_1_bn[0][0]          \n",
      "__________________________________________________________________________________________________\n",
      "conv5_block3_2_conv (Conv2D)    (None, 8, 8, 512)    2359808     conv5_block3_1_relu[0][0]        \n",
      "__________________________________________________________________________________________________\n",
      "conv5_block3_2_bn (BatchNormali (None, 8, 8, 512)    2048        conv5_block3_2_conv[0][0]        \n",
      "__________________________________________________________________________________________________\n",
      "conv5_block3_2_relu (Activation (None, 8, 8, 512)    0           conv5_block3_2_bn[0][0]          \n",
      "__________________________________________________________________________________________________\n",
      "conv5_block3_3_conv (Conv2D)    (None, 8, 8, 2048)   1050624     conv5_block3_2_relu[0][0]        \n",
      "__________________________________________________________________________________________________\n",
      "conv5_block3_3_bn (BatchNormali (None, 8, 8, 2048)   8192        conv5_block3_3_conv[0][0]        \n",
      "__________________________________________________________________________________________________\n",
      "conv5_block3_add (Add)          (None, 8, 8, 2048)   0           conv5_block2_out[0][0]           \n",
      "                                                                 conv5_block3_3_bn[0][0]          \n",
      "__________________________________________________________________________________________________\n",
      "conv5_block3_out (Activation)   (None, 8, 8, 2048)   0           conv5_block3_add[0][0]           \n",
      "==================================================================================================\n",
      "Total params: 23,587,712\n",
      "Trainable params: 23,534,592\n",
      "Non-trainable params: 53,120\n",
      "__________________________________________________________________________________________________\n"
     ]
    }
   ],
   "source": [
    "resnet50.summary()"
   ]
  },
  {
   "cell_type": "markdown",
   "metadata": {
    "id": "jbvSXMQatmzS"
   },
   "source": [
    "run the next cell if you want to draw the model and save it in 'png' format"
   ]
  },
  {
   "cell_type": "code",
   "execution_count": 18,
   "metadata": {
    "executionInfo": {
     "elapsed": 98436,
     "status": "ok",
     "timestamp": 1610292635266,
     "user": {
      "displayName": "Samuel Alejandro Cueva Lozano",
      "photoUrl": "",
      "userId": "15018074265243117161"
     },
     "user_tz": 300
    },
    "id": "s5rLdHYrVqVR"
   },
   "outputs": [],
   "source": [
    "#plot_model( resnet50,show_shapes=True,to_file='model/base_model.png')"
   ]
  },
  {
   "cell_type": "code",
   "execution_count": 19,
   "metadata": {
    "colab": {
     "base_uri": "https://localhost:8080/"
    },
    "executionInfo": {
     "elapsed": 98428,
     "status": "ok",
     "timestamp": 1610292635267,
     "user": {
      "displayName": "Samuel Alejandro Cueva Lozano",
      "photoUrl": "",
      "userId": "15018074265243117161"
     },
     "user_tz": 300
    },
    "id": "RKN8zbJ2Xlp-",
    "outputId": "3b156b36-8183-4ab0-fd6c-fe356bd6f952"
   },
   "outputs": [
    {
     "name": "stdout",
     "output_type": "stream",
     "text": [
      "Number of layers 175\n"
     ]
    }
   ],
   "source": [
    "#Number of layers in Resnet50\n",
    "n_layers_resnet=len(resnet50.layers)\n",
    "print('Number of layers',n_layers_resnet)"
   ]
  },
  {
   "cell_type": "code",
   "execution_count": 20,
   "metadata": {
    "colab": {
     "base_uri": "https://localhost:8080/"
    },
    "executionInfo": {
     "elapsed": 98415,
     "status": "ok",
     "timestamp": 1610292635267,
     "user": {
      "displayName": "Samuel Alejandro Cueva Lozano",
      "photoUrl": "",
      "userId": "15018074265243117161"
     },
     "user_tz": 300
    },
    "id": "Z9BtuKzfLeP_",
    "outputId": "c69aa928-251e-424f-e07f-d76086fadc0f"
   },
   "outputs": [
    {
     "data": {
      "text/plain": [
       "<KerasTensor: shape=(None, 8, 8, 2048) dtype=float32 (created by layer 'conv5_block3_out')>"
      ]
     },
     "execution_count": 20,
     "metadata": {
      "tags": []
     },
     "output_type": "execute_result"
    }
   ],
   "source": [
    "resnet50.output"
   ]
  },
  {
   "cell_type": "markdown",
   "metadata": {
    "id": "iqPv_3J_V1O8"
   },
   "source": [
    "### CovidResnet construction\n",
    "Assembling the custom layers for the covid detection task to the Resnet50 base model"
   ]
  },
  {
   "cell_type": "code",
   "execution_count": 21,
   "metadata": {
    "executionInfo": {
     "elapsed": 99140,
     "status": "ok",
     "timestamp": 1610292635995,
     "user": {
      "displayName": "Samuel Alejandro Cueva Lozano",
      "photoUrl": "",
      "userId": "15018074265243117161"
     },
     "user_tz": 300
    },
    "id": "Cx0UApjFasGR"
   },
   "outputs": [],
   "source": [
    "covid_resnet=create_covidResnet(resnet50)"
   ]
  },
  {
   "cell_type": "code",
   "execution_count": 22,
   "metadata": {
    "colab": {
     "base_uri": "https://localhost:8080/"
    },
    "executionInfo": {
     "elapsed": 99135,
     "status": "ok",
     "timestamp": 1610292636001,
     "user": {
      "displayName": "Samuel Alejandro Cueva Lozano",
      "photoUrl": "",
      "userId": "15018074265243117161"
     },
     "user_tz": 300
    },
    "id": "PcMkjKE73uWd",
    "outputId": "a9f9de10-c38b-4e64-a371-2103cdfde9d7"
   },
   "outputs": [
    {
     "name": "stdout",
     "output_type": "stream",
     "text": [
      "Model: \"model\"\n",
      "_________________________________________________________________\n",
      "Layer (type)                 Output Shape              Param #   \n",
      "=================================================================\n",
      "input_2 (InputLayer)         [(None, 256, 256, 3)]     0         \n",
      "_________________________________________________________________\n",
      "tf.__operators__.getitem (Sl (None, 256, 256, 3)       0         \n",
      "_________________________________________________________________\n",
      "tf.nn.bias_add (TFOpLambda)  (None, 256, 256, 3)       0         \n",
      "_________________________________________________________________\n",
      "resnet50 (Functional)        (None, 8, 8, 2048)        23587712  \n",
      "_________________________________________________________________\n",
      "global_average_pooling2d (Gl (None, 2048)              0         \n",
      "_________________________________________________________________\n",
      "dropout (Dropout)            (None, 2048)              0         \n",
      "_________________________________________________________________\n",
      "dense (Dense)                (None, 4096)              8392704   \n",
      "_________________________________________________________________\n",
      "dropout_1 (Dropout)          (None, 4096)              0         \n",
      "_________________________________________________________________\n",
      "dense_1 (Dense)              (None, 3)                 12291     \n",
      "=================================================================\n",
      "Total params: 31,992,707\n",
      "Trainable params: 31,939,587\n",
      "Non-trainable params: 53,120\n",
      "_________________________________________________________________\n"
     ]
    }
   ],
   "source": [
    "covid_resnet.summary()"
   ]
  },
  {
   "cell_type": "code",
   "execution_count": 23,
   "metadata": {
    "colab": {
     "base_uri": "https://localhost:8080/"
    },
    "executionInfo": {
     "elapsed": 99121,
     "status": "ok",
     "timestamp": 1610292636002,
     "user": {
      "displayName": "Samuel Alejandro Cueva Lozano",
      "photoUrl": "",
      "userId": "15018074265243117161"
     },
     "user_tz": 300
    },
    "id": "kuciaORcQ6zj",
    "outputId": "8e7a5cf6-02eb-4a26-a395-7bc4230e847b"
   },
   "outputs": [
    {
     "name": "stdout",
     "output_type": "stream",
     "text": [
      "Number of total CovidResnet layers: 183\n"
     ]
    }
   ],
   "source": [
    "#Number of total CovidResnet layers\n",
    "print('Number of total CovidResnet layers:',len(covid_resnet.layers)+n_layers_resnet-1)"
   ]
  },
  {
   "cell_type": "markdown",
   "metadata": {
    "id": "wReY7IyijwlM"
   },
   "source": [
    "### Prepare Callbacks\n"
   ]
  },
  {
   "cell_type": "code",
   "execution_count": 24,
   "metadata": {
    "executionInfo": {
     "elapsed": 99118,
     "status": "ok",
     "timestamp": 1610292636003,
     "user": {
      "displayName": "Samuel Alejandro Cueva Lozano",
      "photoUrl": "",
      "userId": "15018074265243117161"
     },
     "user_tz": 300
    },
    "id": "Evr2vY8alq4Y"
   },
   "outputs": [],
   "source": [
    "checkpoints_dir='model/checkpoints'"
   ]
  },
  {
   "cell_type": "code",
   "execution_count": 25,
   "metadata": {
    "executionInfo": {
     "elapsed": 99116,
     "status": "ok",
     "timestamp": 1610292636004,
     "user": {
      "displayName": "Samuel Alejandro Cueva Lozano",
      "photoUrl": "",
      "userId": "15018074265243117161"
     },
     "user_tz": 300
    },
    "id": "pB7GLcaAfgM7"
   },
   "outputs": [],
   "source": [
    "#create checkpoint\n",
    "path_ckpt_train='training/cp-{epoch:04d}.ckpt'\n",
    "dir_ckpt_train=os.path.dirname(path_ckpt_train)\n",
    "checkpoint,dir_ckpt=create_checkpoint(path_ckpt_train,checkpoints_dir)"
   ]
  },
  {
   "cell_type": "code",
   "execution_count": 26,
   "metadata": {
    "executionInfo": {
     "elapsed": 99112,
     "status": "ok",
     "timestamp": 1610292636005,
     "user": {
      "displayName": "Samuel Alejandro Cueva Lozano",
      "photoUrl": "",
      "userId": "15018074265243117161"
     },
     "user_tz": 300
    },
    "id": "FQUjVEQWEEFO"
   },
   "outputs": [],
   "source": [
    "#callback to reduce the learning rate when the loss in the validation set stagnates\n",
    "lr_reduce=tf.keras.callbacks.ReduceLROnPlateau(factor=0.7,patience=3  )"
   ]
  },
  {
   "cell_type": "code",
   "execution_count": 27,
   "metadata": {
    "executionInfo": {
     "elapsed": 99109,
     "status": "ok",
     "timestamp": 1610292636005,
     "user": {
      "displayName": "Samuel Alejandro Cueva Lozano",
      "photoUrl": "",
      "userId": "15018074265243117161"
     },
     "user_tz": 300
    },
    "id": "QTIJOxbMux2v"
   },
   "outputs": [],
   "source": [
    "#custom callback to store the most relevant metrics \n",
    "#on unbalanced data problems\n",
    "class Metrics(tf.keras.callbacks.Callback):\n",
    "\n",
    "  def __init__(self,generator,validation_set=True):\n",
    "    super(Metrics,self).__init__()\n",
    "    self.gen=generator\n",
    "    self.validation_set=validation_set\n",
    "    \n",
    "  \n",
    "  def on_train_begin(self,logs={}):\n",
    "    self.metrics={'precision':[],'recall':[],'f1_score':[],'ind_max_f1':0}\n",
    "    self.x,self.y,self.class_indices=total_batch(self.gen)\n",
    "    \n",
    "\n",
    "  def on_epoch_end(self,epoch, logs={}):\n",
    "    labels=list(self.class_indices.values())\n",
    "    y_score=self.model.predict(self.x)\n",
    "    y_pred=np.argmax(y_score,axis=-1)\n",
    "    precision=precision_score(self.y, y_pred, average=None ,labels=labels, zero_division=0)\n",
    "    recall=recall_score(self.y, y_pred, average=None, labels=labels)\n",
    "    f1=f1_score(self.y, y_pred,average='macro', labels=labels)\n",
    "\n",
    "    self.metrics['precision'].append(list(precision))\n",
    "    self.metrics['recall'].append(list(recall))\n",
    "    self.metrics['f1_score'].append(f1)\n",
    "    \n",
    "    if self.validation_set:\n",
    "      print(' - val_precision: {} - val_recall: {}'.format(precision,recall))\n",
    "    else:\n",
    "      print('- precision: {} - recall: {}'.format(precision,recall))\n",
    "  \n",
    "  def on_train_end(self,logs={}):\n",
    "    self.metrics['ind_max_f1']=np.argmax(np.array(self.metrics['f1_score']))\n",
    "\n",
    "\n",
    "    \n"
   ]
  },
  {
   "cell_type": "code",
   "execution_count": 28,
   "metadata": {
    "executionInfo": {
     "elapsed": 99107,
     "status": "ok",
     "timestamp": 1610292636006,
     "user": {
      "displayName": "Samuel Alejandro Cueva Lozano",
      "photoUrl": "",
      "userId": "15018074265243117161"
     },
     "user_tz": 300
    },
    "id": "pmhii3VovcL3"
   },
   "outputs": [],
   "source": [
    "metrics=Metrics(val_data_gen)"
   ]
  },
  {
   "cell_type": "markdown",
   "metadata": {
    "id": "kM3sGywhWZwK"
   },
   "source": [
    "### Compile model"
   ]
  },
  {
   "cell_type": "code",
   "execution_count": 29,
   "metadata": {
    "executionInfo": {
     "elapsed": 99101,
     "status": "ok",
     "timestamp": 1610292636006,
     "user": {
      "displayName": "Samuel Alejandro Cueva Lozano",
      "photoUrl": "",
      "userId": "15018074265243117161"
     },
     "user_tz": 300
    },
    "id": "mzjnf4ZTV05T"
   },
   "outputs": [],
   "source": [
    "learning_rate=0.001\n",
    "#instantiate Adam optimizer\n",
    "optimizer=tf.keras.optimizers.Adam(learning_rate=learning_rate)\n",
    "\n",
    "#compile model for training\n",
    "covid_resnet.compile( optimizer=optimizer,loss='categorical_crossentropy',metrics=['accuracy'])"
   ]
  },
  {
   "cell_type": "markdown",
   "metadata": {
    "id": "04sYh57Mbd_C"
   },
   "source": [
    "## Train CovidResnet"
   ]
  },
  {
   "cell_type": "code",
   "execution_count": 30,
   "metadata": {
    "colab": {
     "base_uri": "https://localhost:8080/"
    },
    "executionInfo": {
     "elapsed": 3909552,
     "status": "ok",
     "timestamp": 1610296446470,
     "user": {
      "displayName": "Samuel Alejandro Cueva Lozano",
      "photoUrl": "",
      "userId": "15018074265243117161"
     },
     "user_tz": 300
    },
    "id": "rpi5D-iaEyET",
    "outputId": "2cffc207-802e-4238-f6e6-1ec831b4fd56"
   },
   "outputs": [
    {
     "name": "stdout",
     "output_type": "stream",
     "text": [
      "Epoch 1/30\n",
      "121/121 [==============================] - 132s 1s/step - loss: 3.5148 - accuracy: 0.4024 - val_loss: 1.3800 - val_accuracy: 0.3225\n",
      " - val_precision: [0.12419974 0.         0.63346614] - val_recall: [0.84347826 0.         0.37192982]\n",
      "Epoch 2/30\n",
      "121/121 [==============================] - 121s 1s/step - loss: 0.5997 - accuracy: 0.6833 - val_loss: 1.4088 - val_accuracy: 0.6239\n",
      " - val_precision: [0.3125     0.         0.72024415] - val_recall: [0.82608696 0.         0.82807018]\n",
      "Epoch 3/30\n",
      "121/121 [==============================] - 121s 993ms/step - loss: 0.4356 - accuracy: 0.7834 - val_loss: 0.6259 - val_accuracy: 0.7700\n",
      " - val_precision: [0.5320197  0.74747475 0.82957111] - val_recall: [0.93913043 0.46687697 0.85964912]\n",
      "Epoch 4/30\n",
      "121/121 [==============================] - 122s 1s/step - loss: 0.3574 - accuracy: 0.8375 - val_loss: 0.5279 - val_accuracy: 0.8081\n",
      " - val_precision: [0.5045045  0.8490566  0.87690504] - val_recall: [0.97391304 0.56782334 0.8748538 ]\n",
      "Epoch 5/30\n",
      "121/121 [==============================] - 122s 1s/step - loss: 0.3172 - accuracy: 0.8652 - val_loss: 0.5995 - val_accuracy: 0.7669\n",
      " - val_precision: [0.55392157 1.         0.79016064] - val_recall: [0.9826087  0.27444795 0.92046784]\n",
      "Epoch 6/30\n",
      "121/121 [==============================] - 122s 1s/step - loss: 0.3084 - accuracy: 0.8652 - val_loss: 1.0804 - val_accuracy: 0.7319\n",
      " - val_precision: [0.52061856 1.         0.76514445] - val_recall: [0.87826087 0.06309148 0.96023392]\n",
      "Epoch 7/30\n",
      "121/121 [==============================] - 122s 1s/step - loss: 0.2738 - accuracy: 0.8700 - val_loss: 1.1542 - val_accuracy: 0.5680\n",
      " - val_precision: [0.19487179 0.91549296 0.86964286] - val_recall: [0.99130435 0.41009464 0.56959064]\n",
      "Epoch 8/30\n",
      "121/121 [==============================] - 122s 1s/step - loss: 0.2189 - accuracy: 0.8934 - val_loss: 0.6412 - val_accuracy: 0.7638\n",
      " - val_precision: [0.52272727 0.60081466 0.99479167] - val_recall: [1.         0.93059937 0.67017544]\n",
      "Epoch 9/30\n",
      "121/121 [==============================] - 122s 1s/step - loss: 0.2064 - accuracy: 0.9082 - val_loss: 0.3022 - val_accuracy: 0.8679\n",
      " - val_precision: [0.86507937 0.94535519 0.85378323] - val_recall: [0.94782609 0.54574132 0.97660819]\n",
      "Epoch 10/30\n",
      "121/121 [==============================] - 122s 1s/step - loss: 0.2077 - accuracy: 0.9170 - val_loss: 0.2523 - val_accuracy: 0.9029\n",
      " - val_precision: [0.7254902  0.94758065 0.92099323] - val_recall: [0.96521739 0.74132492 0.95438596]\n",
      "Epoch 11/30\n",
      "121/121 [==============================] - 122s 1s/step - loss: 0.1770 - accuracy: 0.9189 - val_loss: 0.6039 - val_accuracy: 0.7941\n",
      " - val_precision: [0.65317919 0.6035503  0.99341021] - val_recall: [0.9826087  0.96529968 0.70526316]\n",
      "Epoch 12/30\n",
      "121/121 [==============================] - 123s 1s/step - loss: 0.1638 - accuracy: 0.9285 - val_loss: 1.2652 - val_accuracy: 0.5765\n",
      " - val_precision: [0.22862823 0.5883905  0.99753086] - val_recall: [1.         0.70347003 0.47251462]\n",
      "Epoch 13/30\n",
      "121/121 [==============================] - 122s 1s/step - loss: 0.1241 - accuracy: 0.9420 - val_loss: 0.5181 - val_accuracy: 0.8143\n",
      " - val_precision: [0.40357143 0.81415929 0.98652695] - val_recall: [0.9826087  0.87066246 0.77076023]\n",
      "Epoch 14/30\n",
      "121/121 [==============================] - 122s 1s/step - loss: 0.1053 - accuracy: 0.9531 - val_loss: 0.4067 - val_accuracy: 0.8500\n",
      " - val_precision: [0.65895954 0.95454545 0.86567164] - val_recall: [0.99130435 0.52996845 0.9497076 ]\n",
      "Epoch 15/30\n",
      "121/121 [==============================] - 121s 1s/step - loss: 0.1278 - accuracy: 0.9347 - val_loss: 0.2384 - val_accuracy: 0.9021\n",
      " - val_precision: [0.86923077 0.95196507 0.89439655] - val_recall: [0.9826087  0.68769716 0.97076023]\n",
      "Epoch 16/30\n",
      "121/121 [==============================] - 122s 1s/step - loss: 0.1222 - accuracy: 0.9371 - val_loss: 0.2853 - val_accuracy: 0.9037\n",
      " - val_precision: [0.67455621 0.85493827 0.97229219] - val_recall: [0.99130435 0.87381703 0.90292398]\n",
      "Epoch 17/30\n",
      "121/121 [==============================] - 122s 1s/step - loss: 0.1013 - accuracy: 0.9460 - val_loss: 0.3220 - val_accuracy: 0.8889\n",
      " - val_precision: [0.61748634 0.88926174 0.95037221] - val_recall: [0.9826087  0.83596215 0.89590643]\n",
      "Epoch 18/30\n",
      "121/121 [==============================] - 122s 1s/step - loss: 0.0910 - accuracy: 0.9543 - val_loss: 0.2455 - val_accuracy: 0.9122\n",
      " - val_precision: [0.76870748 0.95983936 0.92255892] - val_recall: [0.9826087  0.75394322 0.96140351]\n",
      "Epoch 19/30\n",
      "121/121 [==============================] - 122s 1s/step - loss: 0.0859 - accuracy: 0.9612 - val_loss: 0.3164 - val_accuracy: 0.8943\n",
      " - val_precision: [0.8828125  0.99494949 0.87513007] - val_recall: [0.9826087  0.6214511  0.98362573]\n",
      "Epoch 20/30\n",
      "121/121 [==============================] - 122s 1s/step - loss: 0.0712 - accuracy: 0.9655 - val_loss: 0.1844 - val_accuracy: 0.9355\n",
      " - val_precision: [0.84090909 0.88379205 0.97101449] - val_recall: [0.96521739 0.91167192 0.94035088]\n",
      "Epoch 21/30\n",
      "121/121 [==============================] - 123s 1s/step - loss: 0.0597 - accuracy: 0.9699 - val_loss: 0.2042 - val_accuracy: 0.9371\n",
      " - val_precision: [0.8115942  0.94699647 0.95381062] - val_recall: [0.97391304 0.84542587 0.96608187]\n",
      "Epoch 22/30\n",
      "121/121 [==============================] - 123s 1s/step - loss: 0.0457 - accuracy: 0.9754 - val_loss: 0.1918 - val_accuracy: 0.9363\n",
      " - val_precision: [0.82835821 0.88854489 0.97228916] - val_recall: [0.96521739 0.90536278 0.94385965]\n",
      "Epoch 23/30\n",
      "121/121 [==============================] - 122s 1s/step - loss: 0.0896 - accuracy: 0.9567 - val_loss: 0.1834 - val_accuracy: 0.9378\n",
      " - val_precision: [0.99065421 0.94871795 0.92833517] - val_recall: [0.92173913 0.8170347  0.98479532]\n",
      "Epoch 24/30\n",
      "121/121 [==============================] - 123s 1s/step - loss: 0.1006 - accuracy: 0.9564 - val_loss: 0.2312 - val_accuracy: 0.9308\n",
      " - val_precision: [0.8852459  0.96197719 0.92793792] - val_recall: [0.93913043 0.79810726 0.97894737]\n",
      "Epoch 25/30\n",
      "121/121 [==============================] - 124s 1s/step - loss: 0.0629 - accuracy: 0.9696 - val_loss: 0.2544 - val_accuracy: 0.9184\n",
      " - val_precision: [0.888      0.79411765 0.9822335 ] - val_recall: [0.96521739 0.93690852 0.90526316]\n",
      "Epoch 26/30\n",
      "121/121 [==============================] - 120s 996ms/step - loss: 0.0521 - accuracy: 0.9710 - val_loss: 0.4200 - val_accuracy: 0.8866\n",
      " - val_precision: [0.88617886 0.70900693 0.99179207] - val_recall: [0.94782609 0.96845426 0.84795322]\n",
      "Epoch 27/30\n",
      "121/121 [==============================] - 118s 981ms/step - loss: 0.0381 - accuracy: 0.9803 - val_loss: 0.2300 - val_accuracy: 0.9285\n",
      " - val_precision: [0.84328358 0.92805755 0.94171429] - val_recall: [0.9826087  0.81388013 0.96374269]\n",
      "Epoch 28/30\n",
      "121/121 [==============================] - 118s 979ms/step - loss: 0.0252 - accuracy: 0.9891 - val_loss: 0.2096 - val_accuracy: 0.9340\n",
      " - val_precision: [0.87596899 0.94464945 0.93912063] - val_recall: [0.9826087  0.80757098 0.97426901]\n",
      "Epoch 29/30\n",
      "121/121 [==============================] - 118s 980ms/step - loss: 0.0156 - accuracy: 0.9933 - val_loss: 0.2048 - val_accuracy: 0.9394\n",
      " - val_precision: [0.88188976 0.95306859 0.94337486] - val_recall: [0.97391304 0.83280757 0.97426901]\n",
      "Epoch 30/30\n",
      "121/121 [==============================] - 119s 982ms/step - loss: 0.0178 - accuracy: 0.9897 - val_loss: 0.2028 - val_accuracy: 0.9441\n",
      " - val_precision: [0.8968254  0.92567568 0.95722543] - val_recall: [0.9826087  0.86435331 0.96842105]\n"
     ]
    }
   ],
   "source": [
    "history=covid_resnet.fit( x=train_data_gen,validation_data=val_data_gen,epochs=30,callbacks=[lr_reduce,checkpoint,metrics],class_weight=dict_weights)"
   ]
  },
  {
   "cell_type": "markdown",
   "metadata": {
    "id": "MqlfNIOoBkmZ"
   },
   "source": [
    "Notes:\n",
    "*  val_precision and val_recall (precision and sensitivity or recall) show the metrics for each class in the following order: [covid - normal- pneumonia]\n",
    "* Running the first epoch could take significantly longer than the later ones due to internal Tensorflow processes that you have to perform as the images have different sizes.You can read more about this at : https://github.com/tensorflow/tensorflow/issues/13114\n"
   ]
  },
  {
   "cell_type": "markdown",
   "metadata": {
    "id": "5d73Uix-DnEO"
   },
   "source": [
    "## Plot metrics"
   ]
  },
  {
   "cell_type": "code",
   "execution_count": 31,
   "metadata": {
    "executionInfo": {
     "elapsed": 3909552,
     "status": "ok",
     "timestamp": 1610296446473,
     "user": {
      "displayName": "Samuel Alejandro Cueva Lozano",
      "photoUrl": "",
      "userId": "15018074265243117161"
     },
     "user_tz": 300
    },
    "id": "0sDPFI1X7yYC"
   },
   "outputs": [],
   "source": [
    "history_dir='model/history'"
   ]
  },
  {
   "cell_type": "code",
   "execution_count": 32,
   "metadata": {
    "executionInfo": {
     "elapsed": 3909549,
     "status": "ok",
     "timestamp": 1610296446474,
     "user": {
      "displayName": "Samuel Alejandro Cueva Lozano",
      "photoUrl": "",
      "userId": "15018074265243117161"
     },
     "user_tz": 300
    },
    "id": "izhH4t97zjVi"
   },
   "outputs": [],
   "source": [
    "#save history on disk to be able to be loaded and plotted without having to retrain the model\n",
    "with open(history_dir,'wb') as file:\n",
    "  pickle.dump(history.history,file)\n"
   ]
  },
  {
   "cell_type": "code",
   "execution_count": 33,
   "metadata": {
    "executionInfo": {
     "elapsed": 3909545,
     "status": "ok",
     "timestamp": 1610296446474,
     "user": {
      "displayName": "Samuel Alejandro Cueva Lozano",
      "photoUrl": "",
      "userId": "15018074265243117161"
     },
     "user_tz": 300
    },
    "id": "Znw8vZtd1Xtz"
   },
   "outputs": [],
   "source": [
    "#open training history from disk\n",
    "hist=pickle.load(open(history_dir,'rb'))"
   ]
  },
  {
   "cell_type": "code",
   "execution_count": 34,
   "metadata": {
    "colab": {
     "base_uri": "https://localhost:8080/",
     "height": 226
    },
    "executionInfo": {
     "elapsed": 3909862,
     "status": "ok",
     "timestamp": 1610296446804,
     "user": {
      "displayName": "Samuel Alejandro Cueva Lozano",
      "photoUrl": "",
      "userId": "15018074265243117161"
     },
     "user_tz": 300
    },
    "id": "N5OndJKPPWCA",
    "outputId": "d588317f-4549-4972-8a21-6270074f25b1"
   },
   "outputs": [
    {
     "data": {
      "image/png": "[encoded data removed]",
      "text/plain": [
       "<Figure size 1008x288 with 2 Axes>"
      ]
     },
     "metadata": {
      "needs_background": "light",
      "tags": []
     },
     "output_type": "display_data"
    }
   ],
   "source": [
    "plot_history(hist)"
   ]
  },
  {
   "cell_type": "code",
   "execution_count": 35,
   "metadata": {
    "executionInfo": {
     "elapsed": 3909861,
     "status": "ok",
     "timestamp": 1610296446806,
     "user": {
      "displayName": "Samuel Alejandro Cueva Lozano",
      "photoUrl": "",
      "userId": "15018074265243117161"
     },
     "user_tz": 300
    },
    "id": "bSHnOo6o-kE3"
   },
   "outputs": [],
   "source": [
    "metrics_dir='model/metrics'"
   ]
  },
  {
   "cell_type": "code",
   "execution_count": 36,
   "metadata": {
    "executionInfo": {
     "elapsed": 3909860,
     "status": "ok",
     "timestamp": 1610296446808,
     "user": {
      "displayName": "Samuel Alejandro Cueva Lozano",
      "photoUrl": "",
      "userId": "15018074265243117161"
     },
     "user_tz": 300
    },
    "id": "vfwvmVCCAi-L"
   },
   "outputs": [],
   "source": [
    "#save metrics on disk so that they can be loaded and graphed without the need to retrain the model\n",
    "with open(metrics_dir,'wb') as file:\n",
    "  pickle.dump(metrics.metrics,file)"
   ]
  },
  {
   "cell_type": "code",
   "execution_count": 37,
   "metadata": {
    "executionInfo": {
     "elapsed": 3909859,
     "status": "ok",
     "timestamp": 1610296446810,
     "user": {
      "displayName": "Samuel Alejandro Cueva Lozano",
      "photoUrl": "",
      "userId": "15018074265243117161"
     },
     "user_tz": 300
    },
    "id": "vMA5GoQE-iPo"
   },
   "outputs": [],
   "source": [
    "#open training metrics from disk\n",
    "metrics_restored=pickle.load(open(metrics_dir,'rb'))"
   ]
  },
  {
   "cell_type": "code",
   "execution_count": 38,
   "metadata": {
    "colab": {
     "base_uri": "https://localhost:8080/",
     "height": 214
    },
    "executionInfo": {
     "elapsed": 3910229,
     "status": "ok",
     "timestamp": 1610296447192,
     "user": {
      "displayName": "Samuel Alejandro Cueva Lozano",
      "photoUrl": "",
      "userId": "15018074265243117161"
     },
     "user_tz": 300
    },
    "id": "xgE17pKL8clf",
    "outputId": "17303523-4a32-4529-a1a0-5e06b4d4f33c"
   },
   "outputs": [
    {
     "data": {
      "image/png": "[encoded data removed]",
      "text/plain": [
       "<Figure size 1080x288 with 2 Axes>"
      ]
     },
     "metadata": {
      "needs_background": "light",
      "tags": []
     },
     "output_type": "display_data"
    }
   ],
   "source": [
    "plot_metrics(metrics_restored)"
   ]
  },
  {
   "cell_type": "markdown",
   "metadata": {
    "id": "JaGbDhcXIG3z"
   },
   "source": [
    "### Restore model"
   ]
  },
  {
   "cell_type": "code",
   "execution_count": 39,
   "metadata": {
    "executionInfo": {
     "elapsed": 3910229,
     "status": "ok",
     "timestamp": 1610296447196,
     "user": {
      "displayName": "Samuel Alejandro Cueva Lozano",
      "photoUrl": "",
      "userId": "15018074265243117161"
     },
     "user_tz": 300
    },
    "id": "LFNurc08vU7Y"
   },
   "outputs": [],
   "source": [
    "#index of the best model saved according to the metric f1-score\n",
    "ind_best_model=metrics_restored['ind_max_f1']"
   ]
  },
  {
   "cell_type": "code",
   "execution_count": 40,
   "metadata": {
    "colab": {
     "base_uri": "https://localhost:8080/"
    },
    "executionInfo": {
     "elapsed": 3910225,
     "status": "ok",
     "timestamp": 1610296447200,
     "user": {
      "displayName": "Samuel Alejandro Cueva Lozano",
      "photoUrl": "",
      "userId": "15018074265243117161"
     },
     "user_tz": 300
    },
    "id": "k_xsZ0d3jthy",
    "outputId": "61ab2ded-5c70-4ab3-aea7-9bbd11dcbff7"
   },
   "outputs": [
    {
     "name": "stdout",
     "output_type": "stream",
     "text": [
      "best model in: model/checkpoints/training/cp-0030.ckpt\n"
     ]
    }
   ],
   "source": [
    "checkpoint_dir=os.path.join(checkpoints_dir,dir_ckpt_train)\n",
    "best_ckpt=os.path.join(checkpoint_dir,'cp-{:04d}.ckpt'.format(ind_best_model+1))\n",
    "print('best model in: {}'.format(best_ckpt))"
   ]
  },
  {
   "cell_type": "code",
   "execution_count": 41,
   "metadata": {
    "executionInfo": {
     "elapsed": 3910463,
     "status": "ok",
     "timestamp": 1610296447441,
     "user": {
      "displayName": "Samuel Alejandro Cueva Lozano",
      "photoUrl": "",
      "userId": "15018074265243117161"
     },
     "user_tz": 300
    },
    "id": "cie3d4guVcXn"
   },
   "outputs": [],
   "source": [
    "#create new model instance\n",
    "covid_resnet_restored=create_covidResnet(resnet50)"
   ]
  },
  {
   "cell_type": "code",
   "execution_count": 42,
   "metadata": {
    "executionInfo": {
     "elapsed": 3910461,
     "status": "ok",
     "timestamp": 1610296447442,
     "user": {
      "displayName": "Samuel Alejandro Cueva Lozano",
      "photoUrl": "",
      "userId": "15018074265243117161"
     },
     "user_tz": 300
    },
    "id": "lGOaQN-DuanV"
   },
   "outputs": [],
   "source": [
    "#compile the new model\n",
    "covid_resnet_restored.compile( optimizer=optimizer,loss='categorical_crossentropy',metrics=['accuracy'])"
   ]
  },
  {
   "cell_type": "code",
   "execution_count": 43,
   "metadata": {
    "colab": {
     "base_uri": "https://localhost:8080/"
    },
    "executionInfo": {
     "elapsed": 3912039,
     "status": "ok",
     "timestamp": 1610296449029,
     "user": {
      "displayName": "Samuel Alejandro Cueva Lozano",
      "photoUrl": "",
      "userId": "15018074265243117161"
     },
     "user_tz": 300
    },
    "id": "bh-6Er2HXFKO",
    "outputId": "8af98b02-89d3-496a-8f2a-bdf486ed4546"
   },
   "outputs": [
    {
     "data": {
      "text/plain": [
       "<tensorflow.python.training.tracking.util.CheckpointLoadStatus at 0x7fa0d0739ba8>"
      ]
     },
     "execution_count": 43,
     "metadata": {
      "tags": []
     },
     "output_type": "execute_result"
    }
   ],
   "source": [
    "#Loads the weights\n",
    "covid_resnet_restored.load_weights(best_ckpt)"
   ]
  },
  {
   "cell_type": "code",
   "execution_count": 44,
   "metadata": {
    "colab": {
     "base_uri": "https://localhost:8080/"
    },
    "executionInfo": {
     "elapsed": 3912031,
     "status": "ok",
     "timestamp": 1610296449030,
     "user": {
      "displayName": "Samuel Alejandro Cueva Lozano",
      "photoUrl": "",
      "userId": "15018074265243117161"
     },
     "user_tz": 300
    },
    "id": "WayID4TpjA3G",
    "outputId": "a49b8b59-0a88-40be-b43c-e3d7d3c7ec14"
   },
   "outputs": [
    {
     "name": "stdout",
     "output_type": "stream",
     "text": [
      "Model: \"model_1\"\n",
      "_________________________________________________________________\n",
      "Layer (type)                 Output Shape              Param #   \n",
      "=================================================================\n",
      "input_3 (InputLayer)         [(None, 256, 256, 3)]     0         \n",
      "_________________________________________________________________\n",
      "tf.__operators__.getitem_1 ( (None, 256, 256, 3)       0         \n",
      "_________________________________________________________________\n",
      "tf.nn.bias_add_1 (TFOpLambda (None, 256, 256, 3)       0         \n",
      "_________________________________________________________________\n",
      "resnet50 (Functional)        (None, 8, 8, 2048)        23587712  \n",
      "_________________________________________________________________\n",
      "global_average_pooling2d_1 ( (None, 2048)              0         \n",
      "_________________________________________________________________\n",
      "dropout_2 (Dropout)          (None, 2048)              0         \n",
      "_________________________________________________________________\n",
      "dense_2 (Dense)              (None, 4096)              8392704   \n",
      "_________________________________________________________________\n",
      "dropout_3 (Dropout)          (None, 4096)              0         \n",
      "_________________________________________________________________\n",
      "dense_3 (Dense)              (None, 3)                 12291     \n",
      "=================================================================\n",
      "Total params: 31,992,707\n",
      "Trainable params: 31,939,587\n",
      "Non-trainable params: 53,120\n",
      "_________________________________________________________________\n"
     ]
    }
   ],
   "source": [
    "covid_resnet_restored.summary()"
   ]
  },
  {
   "cell_type": "markdown",
   "metadata": {
    "id": "pagZgbnL-3y1"
   },
   "source": [
    "## Testing"
   ]
  },
  {
   "cell_type": "code",
   "execution_count": 45,
   "metadata": {
    "colab": {
     "base_uri": "https://localhost:8080/"
    },
    "executionInfo": {
     "elapsed": 3948337,
     "status": "ok",
     "timestamp": 1610296485347,
     "user": {
      "displayName": "Samuel Alejandro Cueva Lozano",
      "photoUrl": "",
      "userId": "15018074265243117161"
     },
     "user_tz": 300
    },
    "id": "z8oOi9z4gAFk",
    "outputId": "454a472e-7163-4519-f466-31f2f3c031e0"
   },
   "outputs": [
    {
     "name": "stdout",
     "output_type": "stream",
     "text": [
      "41/41 [==============================] - 35s 831ms/step - loss: 0.2184 - accuracy: 0.9517\n"
     ]
    }
   ],
   "source": [
    "test_loss=covid_resnet_restored.evaluate(test_data_gen,callbacks=[metrics])"
   ]
  },
  {
   "cell_type": "markdown",
   "metadata": {
    "id": "axymJiPo6qZP"
   },
   "source": [
    "### Confusion Matrix"
   ]
  },
  {
   "cell_type": "code",
   "execution_count": 46,
   "metadata": {
    "executionInfo": {
     "elapsed": 3980625,
     "status": "ok",
     "timestamp": 1610296517638,
     "user": {
      "displayName": "Samuel Alejandro Cueva Lozano",
      "photoUrl": "",
      "userId": "15018074265243117161"
     },
     "user_tz": 300
    },
    "id": "4_eQynCBu5FT"
   },
   "outputs": [],
   "source": [
    "x_test,y_test,class_ind_test=total_batch(test_data_gen)"
   ]
  },
  {
   "cell_type": "code",
   "execution_count": 47,
   "metadata": {
    "executionInfo": {
     "elapsed": 3983965,
     "status": "ok",
     "timestamp": 1610296520981,
     "user": {
      "displayName": "Samuel Alejandro Cueva Lozano",
      "photoUrl": "",
      "userId": "15018074265243117161"
     },
     "user_tz": 300
    },
    "id": "aRedNHPwAntZ"
   },
   "outputs": [],
   "source": [
    "y_pred_test=np.argmax(covid_resnet_restored.predict(x_test),axis=1)"
   ]
  },
  {
   "cell_type": "code",
   "execution_count": 48,
   "metadata": {
    "colab": {
     "base_uri": "https://localhost:8080/",
     "height": 513
    },
    "executionInfo": {
     "elapsed": 3984275,
     "status": "ok",
     "timestamp": 1610296521305,
     "user": {
      "displayName": "Samuel Alejandro Cueva Lozano",
      "photoUrl": "",
      "userId": "15018074265243117161"
     },
     "user_tz": 300
    },
    "id": "l9Ymjk0HFLgb",
    "outputId": "92558071-1a15-406d-ad0e-38b2b81f732a"
   },
   "outputs": [
    {
     "data": {
      "image/png": "[encoded data removed]",
      "text/plain": [
       "<Figure size 576x576 with 2 Axes>"
      ]
     },
     "metadata": {
      "needs_background": "light",
      "tags": []
     },
     "output_type": "display_data"
    }
   ],
   "source": [
    "plot_confusion_matrix(y_test,y_pred_test,labels=[0,1,2])"
   ]
  },
  {
   "cell_type": "code",
   "execution_count": 49,
   "metadata": {
    "colab": {
     "base_uri": "https://localhost:8080/"
    },
    "executionInfo": {
     "elapsed": 3984268,
     "status": "ok",
     "timestamp": 1610296521307,
     "user": {
      "displayName": "Samuel Alejandro Cueva Lozano",
      "photoUrl": "",
      "userId": "15018074265243117161"
     },
     "user_tz": 300
    },
    "id": "X0XMcomKAB7W",
    "outputId": "eba7786a-a645-4ca9-d22c-7ccc316de7e3"
   },
   "outputs": [
    {
     "name": "stdout",
     "output_type": "stream",
     "text": [
      "              precision    recall  f1-score   support\n",
      "\n",
      "    covid-19       0.95      0.98      0.97       115\n",
      "      normal       0.93      0.90      0.91       316\n",
      "   pneumonia       0.97      0.97      0.97       854\n",
      "\n",
      "    accuracy                           0.95      1285\n",
      "   macro avg       0.95      0.95      0.95      1285\n",
      "weighted avg       0.95      0.95      0.95      1285\n",
      "\n"
     ]
    }
   ],
   "source": [
    "print(classification_report( y_test,y_pred_test, target_names=[\"covid-19\",\"normal\",'pneumonia']))"
   ]
  },
  {
   "cell_type": "markdown",
   "metadata": {
    "id": "IlwYyAQylyFA"
   },
   "source": [
    "## Conclusions\n",
    "CovidResnet was created with the aim of detecting COVID-19 in frontal chest radiographs and the following results were achieved:\n",
    "* Accuracy of the model in the test set --->95.17%\n",
    "* Precision of the model for COVID-19 detection in test set--->95%\n",
    "* Sensitivity or Recall of the model for COVID-19 detection in the test set --->98%\n",
    "* F1-Score of the model for COVID-19 detection in the test set --->0.97\n",
    "\n"
   ]
  },
  {
   "cell_type": "markdown",
   "metadata": {
    "id": "Dj2WDmZpsLUA"
   },
   "source": [
    "## ¡IMPORTANT! :\n",
    "The CovidResnet model was created for research purposes only and is not ready for use in production, in no way should it be used to diagnose COVID-19, the diagnosis must be given by a qualified physician."
   ]
  }
 ],
 "metadata": {
  "accelerator": "GPU",
  "colab": {
   "collapsed_sections": [],
   "name": "CovidResnet_github - english.ipynb",
   "provenance": [
    {
     "file_id": "17Cn15ZMBmmXjpTV7iSgww-fzMOsTdof0",
     "timestamp": 1608607687187
    }
   ]
  },
  "kernelspec": {
   "display_name": "Python 3",
   "language": "python",
   "name": "python3"
  },
  "language_info": {
   "codemirror_mode": {
    "name": "ipython",
    "version": 3
   },
   "file_extension": ".py",
   "mimetype": "text/x-python",
   "name": "python",
   "nbconvert_exporter": "python",
   "pygments_lexer": "ipython3",
   "version": "3.8.5"
  }
 },
 "nbformat": 4,
 "nbformat_minor": 1
}
